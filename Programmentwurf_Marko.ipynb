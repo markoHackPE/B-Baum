{
  "nbformat": 4,
  "nbformat_minor": 0,
  "metadata": {
    "colab": {
      "name": "Programmentwurf.ipynb",
      "provenance": [],
      "collapsed_sections": [],
      "include_colab_link": true
    },
    "kernelspec": {
      "name": "python3",
      "display_name": "Python 3"
    },
    "language_info": {
      "name": "python"
    }
  },
  "cells": [
    {
      "cell_type": "markdown",
      "metadata": {
        "id": "view-in-github",
        "colab_type": "text"
      },
      "source": [
        "<a href=\"https://colab.research.google.com/github/markoHackPE/B-Baum/blob/main/Programmentwurf_Marko.ipynb\" target=\"_parent\"><img src=\"https://colab.research.google.com/assets/colab-badge.svg\" alt=\"Open In Colab\"/></a>"
      ]
    },
    {
      "cell_type": "code",
      "metadata": {
        "id": "wsHMAzT5cEar"
      },
      "source": [
        "import pandas as pd\n",
        "import seaborn as sns"
      ],
      "execution_count": null,
      "outputs": []
    },
    {
      "cell_type": "markdown",
      "metadata": {
        "id": "tC1OTmrc0w0F"
      },
      "source": [
        "# 1. Business Understanding"
      ]
    },
    {
      "cell_type": "markdown",
      "metadata": {
        "id": "kEsepvBd2pqZ"
      },
      "source": [
        "Wir möchten im Laufe des CRISP-DM Prozesses ein Verständnis dafür aufbauen, wie die verschiedenen Daten einer Immobilie mit dem Preis zusammen hängen und welche Daten welche Gewichtung haben."
      ]
    },
    {
      "cell_type": "markdown",
      "metadata": {
        "id": "ZZv5yyq-065_"
      },
      "source": [
        "# 2. Data Exploration und Analyse"
      ]
    },
    {
      "cell_type": "markdown",
      "metadata": {
        "id": "VzY5k3sD1E8k"
      },
      "source": [
        "# 3. Data Preparation"
      ]
    },
    {
      "cell_type": "markdown",
      "metadata": {
        "id": "XAZc5_Jn1KpT"
      },
      "source": [
        "# 4. Modeling - Regression mit Inferenz"
      ]
    },
    {
      "cell_type": "markdown",
      "metadata": {
        "id": "SgQCm6w81RqW"
      },
      "source": [
        "# 5. Modeling - Best of Class"
      ]
    },
    {
      "cell_type": "markdown",
      "metadata": {
        "id": "PQ2Ky--Z1U9X"
      },
      "source": [
        "# 6. Evaluation und Test"
      ]
    },
    {
      "cell_type": "markdown",
      "metadata": {
        "id": "Dl9PRaVA1YGF"
      },
      "source": [
        "# 7.Deployment"
      ]
    },
    {
      "cell_type": "markdown",
      "metadata": {
        "id": "8-RJYr5L1aqS"
      },
      "source": [
        "# Add-On: Modeling - Klassifikation"
      ]
    }
  ]
}